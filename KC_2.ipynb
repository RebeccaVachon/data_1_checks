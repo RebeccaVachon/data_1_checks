{
 "cells": [
  {
   "cell_type": "code",
   "execution_count": 2,
   "metadata": {},
   "outputs": [],
   "source": [
    "import pandas as pd\n",
    "import numpy as np"
   ]
  },
  {
   "cell_type": "code",
   "execution_count": 3,
   "metadata": {},
   "outputs": [
    {
     "data": {
      "text/html": [
       "<div>\n",
       "<style scoped>\n",
       "    .dataframe tbody tr th:only-of-type {\n",
       "        vertical-align: middle;\n",
       "    }\n",
       "\n",
       "    .dataframe tbody tr th {\n",
       "        vertical-align: top;\n",
       "    }\n",
       "\n",
       "    .dataframe thead th {\n",
       "        text-align: right;\n",
       "    }\n",
       "</style>\n",
       "<table border=\"1\" class=\"dataframe\">\n",
       "  <thead>\n",
       "    <tr style=\"text-align: right;\">\n",
       "      <th></th>\n",
       "      <th>OBJECTID</th>\n",
       "      <th>ASSETID</th>\n",
       "      <th>LIFECYCLESTATUS</th>\n",
       "      <th>SERVICEAREA</th>\n",
       "      <th>STATICPRESSURE</th>\n",
       "      <th>LATITUDE</th>\n",
       "      <th>LONGITUDE</th>\n",
       "      <th>NEIGHBORHOOD</th>\n",
       "    </tr>\n",
       "  </thead>\n",
       "  <tbody>\n",
       "    <tr>\n",
       "      <th>0</th>\n",
       "      <td>520</td>\n",
       "      <td>350881</td>\n",
       "      <td>AC</td>\n",
       "      <td>CE</td>\n",
       "      <td>74.0</td>\n",
       "      <td>39.098730</td>\n",
       "      <td>-84.512535</td>\n",
       "      <td>DOWNTOWN</td>\n",
       "    </tr>\n",
       "    <tr>\n",
       "      <th>1</th>\n",
       "      <td>521</td>\n",
       "      <td>341640</td>\n",
       "      <td>AC</td>\n",
       "      <td>EH</td>\n",
       "      <td>147.0</td>\n",
       "      <td>39.130454</td>\n",
       "      <td>-84.428866</td>\n",
       "      <td>HYDE PARK</td>\n",
       "    </tr>\n",
       "    <tr>\n",
       "      <th>2</th>\n",
       "      <td>522</td>\n",
       "      <td>348601</td>\n",
       "      <td>AC</td>\n",
       "      <td>MW</td>\n",
       "      <td>70.0</td>\n",
       "      <td>39.068912</td>\n",
       "      <td>-84.366412</td>\n",
       "      <td>NaN</td>\n",
       "    </tr>\n",
       "    <tr>\n",
       "      <th>3</th>\n",
       "      <td>523</td>\n",
       "      <td>329047</td>\n",
       "      <td>AC</td>\n",
       "      <td>BR</td>\n",
       "      <td>71.0</td>\n",
       "      <td>39.227609</td>\n",
       "      <td>-84.374410</td>\n",
       "      <td>NaN</td>\n",
       "    </tr>\n",
       "    <tr>\n",
       "      <th>4</th>\n",
       "      <td>524</td>\n",
       "      <td>321511</td>\n",
       "      <td>AC</td>\n",
       "      <td>WH</td>\n",
       "      <td>69.0</td>\n",
       "      <td>39.294399</td>\n",
       "      <td>-84.507339</td>\n",
       "      <td>NaN</td>\n",
       "    </tr>\n",
       "  </tbody>\n",
       "</table>\n",
       "</div>"
      ],
      "text/plain": [
       "   OBJECTID  ASSETID LIFECYCLESTATUS SERVICEAREA  STATICPRESSURE   LATITUDE  \\\n",
       "0       520   350881              AC          CE            74.0  39.098730   \n",
       "1       521   341640              AC          EH           147.0  39.130454   \n",
       "2       522   348601              AC          MW            70.0  39.068912   \n",
       "3       523   329047              AC          BR            71.0  39.227609   \n",
       "4       524   321511              AC          WH            69.0  39.294399   \n",
       "\n",
       "   LONGITUDE NEIGHBORHOOD  \n",
       "0 -84.512535     DOWNTOWN  \n",
       "1 -84.428866    HYDE PARK  \n",
       "2 -84.366412          NaN  \n",
       "3 -84.374410          NaN  \n",
       "4 -84.507339          NaN  "
      ]
     },
     "execution_count": 3,
     "metadata": {},
     "output_type": "execute_result"
    }
   ],
   "source": [
    "hydrants_df = pd.read_csv('https://raw.githubusercontent.com/RebeccaVachon/data_1_checks/main/assets/Fire_Hydrants__Greater_Cincinnati_Water_Works_.csv')\n",
    "hydrants_df.head()"
   ]
  },
  {
   "cell_type": "code",
   "execution_count": 6,
   "metadata": {},
   "outputs": [
    {
     "name": "stdout",
     "output_type": "stream",
     "text": [
      "This is the number of rows:  35392\n",
      "This is the number of colums:  8\n"
     ]
    }
   ],
   "source": [
    "n, num_columns = hydrants_df.shape\n",
    "print (\"This is the number of rows: \", n)\n",
    "print (\"This is the number of colums: \", num_columns)"
   ]
  },
  {
   "cell_type": "code",
   "execution_count": 10,
   "metadata": {},
   "outputs": [
    {
     "data": {
      "text/plain": [
       "['DOWNTOWN',\n",
       " 'HYDE PARK',\n",
       " nan,\n",
       " 'KENNEDY HEIGHTS',\n",
       " 'EVANSTON',\n",
       " 'CUF',\n",
       " 'PLEASANT RIDGE',\n",
       " 'WALNUT HILLS',\n",
       " 'MT. LOOKOUT',\n",
       " 'COLLEGE HILL',\n",
       " 'AVONDALE',\n",
       " 'QUEENSGATE',\n",
       " 'BOND HILL',\n",
       " 'ROSELAWN',\n",
       " 'MT. AIRY',\n",
       " 'CLIFTON',\n",
       " 'WEST PRICE HILL',\n",
       " 'PENDLETON',\n",
       " 'MT. AUBURN',\n",
       " 'OAKLEY',\n",
       " 'NORTH FAIRMOUNT',\n",
       " 'EAST PRICE HILL',\n",
       " 'NORTHSIDE',\n",
       " 'RIVERSIDE',\n",
       " 'OVER-THE-RHINE',\n",
       " 'WESTWOOD',\n",
       " 'CARTHAGE',\n",
       " 'MT. WASHINGTON',\n",
       " 'WEST END',\n",
       " 'MADISONVILLE',\n",
       " 'CALIFORNIA',\n",
       " 'HARTWELL',\n",
       " 'SAYLER PARK',\n",
       " 'SOUTH CUMMINSVILLE',\n",
       " 'NORTH AVONDALE - PADDOCK HILLS',\n",
       " 'SOUTH FAIRMOUNT',\n",
       " 'CAMP WASHINGTON',\n",
       " 'SPRING GROVE VILLAGE',\n",
       " 'EAST WALNUT HILLS',\n",
       " 'MT. ADAMS',\n",
       " 'MILLVALE',\n",
       " 'SEDAMSVILLE',\n",
       " 'LINWOOD',\n",
       " 'ENGLISH WOODS',\n",
       " 'CORRYVILLE',\n",
       " 'EAST END',\n",
       " 'EAST WESTWOOD',\n",
       " 'WINTON HILLS',\n",
       " 'LOWER PRICE HILL',\n",
       " 'COLUMBIA TUSCULUM',\n",
       " 'VILLAGES AT ROLL HILL']"
      ]
     },
     "execution_count": 10,
     "metadata": {},
     "output_type": "execute_result"
    }
   ],
   "source": [
    "neighborhood = list(hydrants_df['NEIGHBORHOOD'].unique())\n",
    "neighborhood"
   ]
  },
  {
   "cell_type": "code",
   "execution_count": 12,
   "metadata": {},
   "outputs": [
    {
     "data": {
      "text/plain": [
       "['CE',\n",
       " 'EH',\n",
       " 'MW',\n",
       " 'BR',\n",
       " 'WH',\n",
       " 'MS',\n",
       " 'MN',\n",
       " 'CG',\n",
       " 'EAR',\n",
       " 'BJ',\n",
       " 'CA',\n",
       " 'CR',\n",
       " 'ESR',\n",
       " 'EHR',\n",
       " 'MR',\n",
       " 'MSR',\n",
       " 'FS',\n",
       " 'CART',\n",
       " nan,\n",
       " 'ECR']"
      ]
     },
     "execution_count": 12,
     "metadata": {},
     "output_type": "execute_result"
    }
   ],
   "source": [
    "service_area = list(hydrants_df['SERVICEAREA'].unique())\n",
    "service_area"
   ]
  },
  {
   "cell_type": "code",
   "execution_count": null,
   "metadata": {},
   "outputs": [],
   "source": []
  }
 ],
 "metadata": {
  "kernelspec": {
   "display_name": "Python 3.9.12 ('base')",
   "language": "python",
   "name": "python3"
  },
  "language_info": {
   "codemirror_mode": {
    "name": "ipython",
    "version": 3
   },
   "file_extension": ".py",
   "mimetype": "text/x-python",
   "name": "python",
   "nbconvert_exporter": "python",
   "pygments_lexer": "ipython3",
   "version": "3.9.12"
  },
  "orig_nbformat": 4,
  "vscode": {
   "interpreter": {
    "hash": "0af71f2d8234d89340069e339bf133b1ba68c9c185605c0a88130c2a07f535f6"
   }
  }
 },
 "nbformat": 4,
 "nbformat_minor": 2
}
